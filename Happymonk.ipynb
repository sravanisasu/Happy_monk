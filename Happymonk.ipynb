{
  "nbformat": 4,
  "nbformat_minor": 0,
  "metadata": {
    "colab": {
      "name": "Happymonk.ipynb",
      "provenance": [],
      "collapsed_sections": [],
      "authorship_tag": "ABX9TyMroR+VtWhUfuXOUFbOlFlG",
      "include_colab_link": true
    },
    "kernelspec": {
      "name": "python3",
      "display_name": "Python 3"
    },
    "language_info": {
      "name": "python"
    }
  },
  "cells": [
    {
      "cell_type": "markdown",
      "metadata": {
        "id": "view-in-github",
        "colab_type": "text"
      },
      "source": [
        "<a href=\"https://colab.research.google.com/github/sravanisasu/Happy_monk/blob/main/Happymonk.ipynb\" target=\"_parent\"><img src=\"https://colab.research.google.com/assets/colab-badge.svg\" alt=\"Open In Colab\"/></a>"
      ]
    },
    {
      "cell_type": "markdown",
      "metadata": {
        "id": "c_LrIpOBFXfx"
      },
      "source": [
        "**Import required libraries**"
      ]
    },
    {
      "cell_type": "code",
      "metadata": {
        "id": "h3ecZLy9FbeZ"
      },
      "source": [
        "from sklearn import datasets\n",
        "from sklearn.preprocessing import minmax_scale\n",
        "import numpy as np\n",
        "import pandas as pd\n",
        "from sklearn.model_selection import train_test_split\n",
        "from keras.models import Model\n",
        "from keras.layers import Dense\n",
        "import tensorflow as tf\n",
        "from keras import optimizers\n",
        "import matplotlib.pyplot as plt"
      ],
      "execution_count": null,
      "outputs": []
    },
    {
      "cell_type": "markdown",
      "metadata": {
        "id": "d9KZngSiEAea"
      },
      "source": [
        "**Extract Iris dataset and apply minmax scaler**"
      ]
    },
    {
      "cell_type": "code",
      "metadata": {
        "id": "3mTozyg9_sOX"
      },
      "source": [
        "data = datasets.load_iris()\n",
        "x = data.data\n",
        "y = data.target\n",
        "x = minmax_scale(x)\n",
        "y = minmax_scale(y)"
      ],
      "execution_count": null,
      "outputs": []
    },
    {
      "cell_type": "markdown",
      "metadata": {
        "id": "uvqFzTh4ENao"
      },
      "source": [
        "**Convert output to one hot encoding using dummies**"
      ]
    },
    {
      "cell_type": "code",
      "metadata": {
        "id": "_4WGcLTaPdg5"
      },
      "source": [
        "new_y = np.array(pd.get_dummies(y))"
      ],
      "execution_count": null,
      "outputs": []
    },
    {
      "cell_type": "markdown",
      "metadata": {
        "id": "ou6qY0SUEVat"
      },
      "source": [
        "**Split the data set to train and test**"
      ]
    },
    {
      "cell_type": "code",
      "metadata": {
        "id": "pDcghXMVU4Ga"
      },
      "source": [
        "x_train, x_test, y_train, y_test = train_test_split(x, new_y, test_size=0.2, random_state=42)"
      ],
      "execution_count": null,
      "outputs": []
    },
    {
      "cell_type": "markdown",
      "metadata": {
        "id": "HWENdg5VEaLQ"
      },
      "source": [
        "**Define custom model as per the requirement**"
      ]
    },
    {
      "cell_type": "code",
      "metadata": {
        "id": "wrwu0tfrmRA2"
      },
      "source": [
        "class custom_model(Model):\n",
        "    def __init__(self):\n",
        "      super(custom_model, self).__init__()\n",
        "      self.L1 = Dense(10,use_bias=True,trainable=True)\n",
        "      self.L2 = Dense(5,use_bias=True,trainable=True)\n",
        "      self.L3 = Dense(3,use_bias=True,trainable=True)\n",
        "      self.k0 = tf.Variable(np.random.rand(1),trainable=True,dtype='float32')\n",
        "      self.k1 = tf.Variable(np.random.rand(1),trainable=True,dtype='float32')\n",
        "\n",
        "    def call(self, inputs,training=True):\n",
        "      a0 = self.k0 + ( self.k1 * inputs )\n",
        "      z1 = self.L1(a0)\n",
        "      a1 = self.k0 + ( self.k1 * z1 )\n",
        "      z2 = self.L2(a1)\n",
        "      a2 = self.k0 + ( self.k1 * z2 )\n",
        "      z3 = self.L3(a2)\n",
        "      a3 = tf.nn.softmax(z3)\n",
        "      return a3"
      ],
      "execution_count": null,
      "outputs": []
    },
    {
      "cell_type": "markdown",
      "metadata": {
        "id": "POMehLWPEj_b"
      },
      "source": [
        "**Initalise the model, loss function, optimiser and required metric**"
      ]
    },
    {
      "cell_type": "code",
      "metadata": {
        "id": "ot0X7IrmEuCD"
      },
      "source": [
        "model = custom_model()\n",
        "opt = optimizers.Adam(learning_rate=0.01)\n",
        "model.compile(loss=tf.keras.losses.CategoricalCrossentropy(), optimizer=opt, metrics=['accuracy'])\n",
        "\n",
        "#store intial k0 and k1 values\n",
        "k0_list=[model.get_weights()[-2]]\n",
        "k1_list=[model.get_weights()[-1]]"
      ],
      "execution_count": null,
      "outputs": []
    },
    {
      "cell_type": "markdown",
      "metadata": {
        "id": "eokW5EBrE-Vw"
      },
      "source": [
        "**Train model and create callback**"
      ]
    },
    {
      "cell_type": "code",
      "metadata": {
        "colab": {
          "base_uri": "https://localhost:8080/"
        },
        "id": "NJwYm7e6FQSI",
        "outputId": "bbc8b615-a99b-4289-b7da-b5f0f483eb2c"
      },
      "source": [
        "#intialise callback for weights monitoring\n",
        "weights_dict = {}\n",
        "weight_callback = tf.keras.callbacks.LambdaCallback(\n",
        "    on_epoch_end=lambda epoch\n",
        "    , logs: weights_dict.update({epoch:model.get_weights()})\n",
        "    )\n",
        "\n",
        "history = model.fit( x_train, y_train, epochs=20, verbose=1,callbacks=weight_callback )\n",
        "\n",
        "#store all k0 and k1 values for each epoch\n",
        "for epoch,weights in weights_dict.items():\n",
        "  k0_list.append(weights[-2])\n",
        "  k1_list.append(weights[-1])"
      ],
      "execution_count": null,
      "outputs": [
        {
          "output_type": "stream",
          "text": [
            "Epoch 1/20\n",
            "4/4 [==============================] - 14s 4ms/step - loss: 1.2165 - accuracy: 0.3344\n",
            "Epoch 2/20\n",
            "4/4 [==============================] - 0s 3ms/step - loss: 1.1067 - accuracy: 0.3462\n",
            "Epoch 3/20\n",
            "4/4 [==============================] - 0s 3ms/step - loss: 1.0561 - accuracy: 0.3377\n",
            "Epoch 4/20\n",
            "4/4 [==============================] - 0s 3ms/step - loss: 1.0144 - accuracy: 0.2871\n",
            "Epoch 5/20\n",
            "4/4 [==============================] - 0s 3ms/step - loss: 0.9448 - accuracy: 0.6044\n",
            "Epoch 6/20\n",
            "4/4 [==============================] - 0s 3ms/step - loss: 0.8615 - accuracy: 0.6679\n",
            "Epoch 7/20\n",
            "4/4 [==============================] - 0s 3ms/step - loss: 0.7682 - accuracy: 0.6177\n",
            "Epoch 8/20\n",
            "4/4 [==============================] - 0s 3ms/step - loss: 0.6328 - accuracy: 0.6679\n",
            "Epoch 9/20\n",
            "4/4 [==============================] - 0s 3ms/step - loss: 0.5420 - accuracy: 0.6721\n",
            "Epoch 10/20\n",
            "4/4 [==============================] - 0s 3ms/step - loss: 0.4364 - accuracy: 0.7319\n",
            "Epoch 11/20\n",
            "4/4 [==============================] - 0s 3ms/step - loss: 0.4085 - accuracy: 0.8565\n",
            "Epoch 12/20\n",
            "4/4 [==============================] - 0s 3ms/step - loss: 0.3508 - accuracy: 0.9617\n",
            "Epoch 13/20\n",
            "4/4 [==============================] - 0s 4ms/step - loss: 0.3217 - accuracy: 0.9573\n",
            "Epoch 14/20\n",
            "4/4 [==============================] - 0s 4ms/step - loss: 0.2695 - accuracy: 0.9744\n",
            "Epoch 15/20\n",
            "4/4 [==============================] - 0s 4ms/step - loss: 0.1923 - accuracy: 0.9827\n",
            "Epoch 16/20\n",
            "4/4 [==============================] - 0s 4ms/step - loss: 0.1886 - accuracy: 0.9648\n",
            "Epoch 17/20\n",
            "4/4 [==============================] - 0s 3ms/step - loss: 0.1444 - accuracy: 0.9752\n",
            "Epoch 18/20\n",
            "4/4 [==============================] - 0s 3ms/step - loss: 0.1349 - accuracy: 0.9658\n",
            "Epoch 19/20\n",
            "4/4 [==============================] - 0s 3ms/step - loss: 0.1150 - accuracy: 0.9648\n",
            "Epoch 20/20\n",
            "4/4 [==============================] - 0s 4ms/step - loss: 0.1031 - accuracy: 0.9771\n"
          ],
          "name": "stdout"
        }
      ]
    },
    {
      "cell_type": "markdown",
      "metadata": {
        "id": "Rk-JZWTZFq-Q"
      },
      "source": [
        "**Plot the k0 and k1 values**"
      ]
    },
    {
      "cell_type": "code",
      "metadata": {
        "colab": {
          "base_uri": "https://localhost:8080/",
          "height": 327
        },
        "id": "x3AfZytTFxnW",
        "outputId": "50b05083-3192-4ebf-c2fc-c7f4a046c9e0"
      },
      "source": [
        "epoch_list = range(0,21)\n",
        "plt.plot(epoch_list, k0_list, '-b', label='k0')\n",
        "plt.plot(epoch_list, k1_list, '-g', label='k1')\n",
        "plt.xlabel(\"epochs\")\n",
        "plt.legend(loc='upper right')\n",
        "plt.title(\"k0,k1 plot\")\n",
        "plt.show()\n",
        "print(\"Intial k0 value \",k0_list[0],\" k1 value \",k1_list[0])\n",
        "print(\"Final k0 value \",k0_list[-1],\" k1 value \",k1_list[-1])"
      ],
      "execution_count": null,
      "outputs": [
        {
          "output_type": "display_data",
          "data": {
            "image/png": "[encoded data removed]",
            "text/plain": [
              "<Figure size 432x288 with 1 Axes>"
            ]
          },
          "metadata": {
            "tags": [],
            "needs_background": "light"
          }
        },
        {
          "output_type": "stream",
          "text": [
            "Intial k0 value  [0.12984607]  k1 value  [0.83582664]\n",
            "Final k0 value  [0.2665351]  k1 value  [1.2616541]\n"
          ],
          "name": "stdout"
        }
      ]
    },
    {
      "cell_type": "markdown",
      "metadata": {
        "id": "whDlgjdxF2UR"
      },
      "source": [
        "**Plot the loss and accuracy for the training**"
      ]
    },
    {
      "cell_type": "code",
      "metadata": {
        "colab": {
          "base_uri": "https://localhost:8080/",
          "height": 294
        },
        "id": "BPJE_hM4F1nz",
        "outputId": "bdfdc47a-8f59-4676-c8e6-d6b06bb453b2"
      },
      "source": [
        "epoch_list = range(0,20)\n",
        "plt.plot(epoch_list, history.history['accuracy'], '-b', label='accuracy')\n",
        "plt.plot(epoch_list, history.history['loss'], '-g', label='loss')\n",
        "plt.xlabel(\"epochs\")\n",
        "plt.legend(loc='upper right')\n",
        "plt.title(\"Accuracy loss plot\")\n",
        "plt.show()"
      ],
      "execution_count": null,
      "outputs": [
        {
          "output_type": "display_data",
          "data": {
            "image/png": "[encoded data removed]",
            "text/plain": [
              "<Figure size 432x288 with 1 Axes>"
            ]
          },
          "metadata": {
            "tags": [],
            "needs_background": "light"
          }
        }
      ]
    },
    {
      "cell_type": "markdown",
      "metadata": {
        "id": "NY5Lqc1pGF7g"
      },
      "source": [
        "**Print train and test loss and accuracy**"
      ]
    },
    {
      "cell_type": "code",
      "metadata": {
        "colab": {
          "base_uri": "https://localhost:8080/"
        },
        "id": "oAGdV_UlySNb",
        "outputId": "3767db58-239e-4b57-cf30-101fdee994bb"
      },
      "source": [
        "train_loss, train_acc = model.evaluate(x_train, y_train, verbose=0)\n",
        "test_loss, test_acc = model.evaluate(x_test, y_test, verbose=0)\n",
        "\n",
        "stats={'Training Loss':train_loss,'Training Acc':train_acc,'Test loss':test_loss,'Test Acc':test_acc}\n",
        "for key in stats:\n",
        "  print(key,\"-->\",stats[key])"
      ],
      "execution_count": null,
      "outputs": [
        {
          "output_type": "stream",
          "text": [
            "Training Loss --> 0.09257780015468597\n",
            "Training Acc --> 0.9666666388511658\n",
            "Test loss --> 0.13151516020298004\n",
            "Test Acc --> 0.9666666388511658\n"
          ],
          "name": "stdout"
        }
      ]
    },
    {
      "cell_type": "markdown",
      "metadata": {
        "id": "aygvOVwvGayi"
      },
      "source": [
        "**Calculate f1 score using TP,TN,FP,FN**"
      ]
    },
    {
      "cell_type": "code",
      "metadata": {
        "id": "9cfhLrEKdEvJ",
        "colab": {
          "base_uri": "https://localhost:8080/"
        },
        "outputId": "09049bd2-b7d5-4595-9854-fcbc1a822d1c"
      },
      "source": [
        "y_true = y_test\n",
        "\n",
        "output = model.predict(x_test)\n",
        "y_pred = (output == output.max(axis=1)[:,None]).astype(int)\n",
        "\n",
        "#True positive 1*1\n",
        "TP = tf.math.count_nonzero(y_pred * y_true)\n",
        "#True negative (0-1)*(0-1)\n",
        "TN = tf.math.count_nonzero((y_pred - 1) * (y_true - 1))\n",
        "#false positive (1)*(0-1)\n",
        "FP = tf.math.count_nonzero(y_pred * (y_true - 1))\n",
        "#false negative (0-1)*(1)\n",
        "FN = tf.math.count_nonzero((y_pred - 1) * y_true)\n",
        "\n",
        "precision = TP / (TP + FP)\n",
        "recall = TP / (TP + FN)\n",
        "f1 = 2 * precision * recall / (precision + recall)\n",
        "\n",
        "print(\"F1 score - \",f1.numpy())"
      ],
      "execution_count": null,
      "outputs": [
        {
          "output_type": "stream",
          "text": [
            "F1 score -  0.9666666666666667\n"
          ],
          "name": "stdout"
        }
      ]
    }
  ]
}